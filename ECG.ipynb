{
 "cells": [
  {
   "attachments": {},
   "cell_type": "markdown",
   "metadata": {},
   "source": [
    "# Teoria"
   ]
  },
  {
   "attachments": {},
   "cell_type": "markdown",
   "metadata": {},
   "source": [
    "Un electrocardiograma (ECG o EKG) representa visualmente la __actividad electrica__ del corazon respecto del tiempo."
   ]
  },
  {
   "attachments": {},
   "cell_type": "markdown",
   "metadata": {},
   "source": [
    "## Como funciona el corazon?"
   ]
  },
  {
   "attachments": {},
   "cell_type": "markdown",
   "metadata": {},
   "source": [
    "<style>\n",
    "    .center-image {\n",
    "        display: block;\n",
    "        margin-left: auto;\n",
    "        margin-right: auto;\n",
    "        width: 500px;\n",
    "    }\n",
    "</style>\n",
    "\n",
    "<img src=\"partes-del-corazon.jpg\" alt=\"Partes del corazon\" class=\"center-image\">\n",
    "\n"
   ]
  },
  {
   "attachments": {},
   "cell_type": "markdown",
   "metadata": {},
   "source": [
    "Las arterias y las venas son quienes comunican el corazon con el resto del sistema circulatorio. Las venas llevan sangre al corazon y las arterias la expulsan.  \n",
    "Las valvulas del corazon controlan las direccion del flujo del sangre."
   ]
  },
  {
   "attachments": {},
   "cell_type": "markdown",
   "metadata": {},
   "source": [
    "La sangre con poco contenido de oxigeno entra por las venas cava superior e inferior. Entra a la auricula derecha y es bombeada hacia el ventriculo derecho, que a su vez, bombea la sangre a los pulmones.  \n",
    "Los pulmones le suministran oxigeno a la sangre y la devuelven a traves de las venas coloreadas en rojo. Dicha sangre ingresa a la auricula izquierda y es bombeada hacia el ventriculo izquierdo.  \n",
    "Una vez alli, el ventriculo izquierdo genera la presion necesaria para enviar la sangre a la parte inferior y superior del cuerpo.  \n",
    "[Ver video](https://www.youtube.com/watch?v=ZucF5411jF4)\n",
    "\n"
   ]
  },
  {
   "attachments": {},
   "cell_type": "markdown",
   "metadata": {},
   "source": [
    "## Latidos\n"
   ]
  },
  {
   "attachments": {},
   "cell_type": "markdown",
   "metadata": {},
   "source": [
    "lup-DUP! lup-DUP! lup-DUP!  \n",
    "La contraccion de las auriculas y ventriculo es lo que llamamos latidos.  \n",
    "Cuando las auriculas bombean hacia los ventriculos, las valvulas ubicadas entre ambos, se cierran a modo de valvula anti-retorno __[lup]__  \n",
    "Después de que los ventrículos se contraen para bombear la sangre fuera del corazón, las válvulas aórtica y pulmonar se cierran y hacen el sonido __[DUP]__."
   ]
  },
  {
   "attachments": {},
   "cell_type": "markdown",
   "metadata": {},
   "source": [
    "## Frecuencia cardiaca"
   ]
  },
  {
   "attachments": {},
   "cell_type": "markdown",
   "metadata": {},
   "source": [
    "El pulso o frecuencia cardiaca se mide el bips o latidos por minuto siendo los siguientes algunos parametros de referencia:"
   ]
  },
  {
   "attachments": {},
   "cell_type": "markdown",
   "metadata": {},
   "source": [
    "|   Estado de actividad   |   Frecuencia cardíaca (bpm)   |\n",
    "|-------------------------|-------------------------------|\n",
    "|         Sueño           |           40-60               |\n",
    "|         Reposo          |           60-100              |\n",
    "|        Descanso         |           50-70               |\n",
    "|        Caminata         |           70-100              |\n",
    "|       Ejercicio         |          100-180              |\n",
    "|         Correr          |          120-160              |\n"
   ]
  },
  {
   "attachments": {},
   "cell_type": "markdown",
   "metadata": {},
   "source": [
    "## Actividad electrica"
   ]
  },
  {
   "attachments": {},
   "cell_type": "markdown",
   "metadata": {},
   "source": [
    "Las señales eléctricas producen la contracción de los músculos. \n",
    "\n",
    "Con cada latido, una señal eléctrica recorre el corazón desde la parte superior hasta la inferior. En su recorrido, la señal hace que el corazón se contraiga y bombee sangre. El proceso de los latidos incluye los siguientes pasos.\n",
    "\n",
    "1. La señal comienza en un grupo de células, llamadas células de marcapasos, ubicadas en el nodo sinoauricular (SA) en la aurícula derecha.\n",
    "2. La señal eléctrica recorre las aurículas y hace que bombeen sangre hacia los ventrículos.\n",
    "3. La señal eléctrica luego pasa a un grupo de células de marcapasos llamadas nodo auriculoventricular (AV), que se encuentra entre las aurículas y los ventrículos. Aquí la señal se vuelve ligeramente más lenta y da tiempo a los ventrículos a llenarse de sangre.\n",
    "4. El nodo AV envía otra señal que recorre las paredes de los ventrículos y provoca su contracción y el bombeo de sangre fuera del corazón.\n",
    "5. Los ventrículos se relajan y el proceso de latido empieza de nuevo en el nodo SA."
   ]
  }
 ],
 "metadata": {
  "kernelspec": {
   "display_name": "base",
   "language": "python",
   "name": "python3"
  },
  "language_info": {
   "codemirror_mode": {
    "name": "ipython",
    "version": 3
   },
   "file_extension": ".py",
   "mimetype": "text/x-python",
   "name": "python",
   "nbconvert_exporter": "python",
   "pygments_lexer": "ipython3",
   "version": "3.9.13"
  },
  "orig_nbformat": 4
 },
 "nbformat": 4,
 "nbformat_minor": 2
}
