{
 "cells": [
  {
   "attachments": {},
   "cell_type": "markdown",
   "metadata": {},
   "source": [
    "# Teoria"
   ]
  },
  {
   "attachments": {},
   "cell_type": "markdown",
   "metadata": {},
   "source": [
    "Un electrocardiograma (ECG o EKG) representa visualmente la __actividad electrica__ del corazon respecto del tiempo."
   ]
  },
  {
   "attachments": {},
   "cell_type": "markdown",
   "metadata": {},
   "source": [
    "## Como funciona el corazon?"
   ]
  },
  {
   "attachments": {},
   "cell_type": "markdown",
   "metadata": {},
   "source": [
    "<style>\n",
    "    .center-image {\n",
    "        display: block;\n",
    "        margin-left: auto;\n",
    "        margin-right: auto;\n",
    "        width: 500px;\n",
    "    }\n",
    "</style>\n",
    "\n",
    "<img src=\"https://www.cuerpomente.com/medio/2023/05/24/partes-del-corazon_6e32d27d_230524124355_900x961.jpg\" alt=\"Partes del corazon\" class=\"center-image\">\n"
   ]
  },
  {
   "attachments": {},
   "cell_type": "markdown",
   "metadata": {},
   "source": [
    "Las arterias y las venas son quienes comunican el corazon con el resto del sistema circulatorio. Las venas llevan sangre al corazon y las arterias la expulsan.  \n",
    "Las valvulas del corazon controlan las direccion del flujo del sangre."
   ]
  },
  {
   "attachments": {},
   "cell_type": "markdown",
   "metadata": {},
   "source": [
    "La sangre con poco contenido de oxigeno entra por las venas cava superior e inferior. Entra a la auricula derecha y es bombeada hacia el ventriculo derecho, que a su vez, bombea la sangre a los pulmones.  \n",
    "Los pulmones le suministran oxigeno a la sangre y la devuelven a traves de las venas coloreadas en rojo. Dicha sangre ingresa a la auricula izquierda y es bombeada hacia el ventriculo izquierdo.  \n",
    "Una vez alli, el ventriculo izquierdo genera la presion necesaria para enviar la sangre a la parte inferior y superior del cuerpo."
   ]
  },
  {
   "attachments": {},
   "cell_type": "markdown",
   "metadata": {},
   "source": [
    "\n"
   ]
  }
 ],
 "metadata": {
  "kernelspec": {
   "display_name": "base",
   "language": "python",
   "name": "python3"
  },
  "language_info": {
   "codemirror_mode": {
    "name": "ipython",
    "version": 3
   },
   "file_extension": ".py",
   "mimetype": "text/x-python",
   "name": "python",
   "nbconvert_exporter": "python",
   "pygments_lexer": "ipython3",
   "version": "3.9.13"
  },
  "orig_nbformat": 4
 },
 "nbformat": 4,
 "nbformat_minor": 2
}
